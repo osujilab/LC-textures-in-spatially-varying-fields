{
 "cells": [
  {
   "cell_type": "code",
   "execution_count": 1,
   "id": "34191d43",
   "metadata": {},
   "outputs": [],
   "source": [
    "import numpy as np\n",
    "import matplotlib.pyplot as plt\n",
    "import math"
   ]
  },
  {
   "cell_type": "markdown",
   "id": "d61f81f2",
   "metadata": {},
   "source": [
    "Once again we use openQmin to simulate a homeotropic cell. The molecules lie along the z-axis, or the assumed optical axis, as expected."
   ]
  },
  {
   "cell_type": "markdown",
   "id": "e35c6e8a",
   "metadata": {},
   "source": [
    "IN: openQmin.cpp\n",
    "\n",
    "#include \"addObjectsToOpenQmin.h\"\n",
    "\n",
    "    scalar targetNematicValue = S0;\n",
    "    scalar anchoringStrength1 = 12.919; /*This is The NON_DIM value for homeotropic anchoring*/\n",
    "    boundaryObject homeotropicBoundary1(boundaryType::homeotropic,anchoringStrength1,targetNematicValue);\n",
    "    sim->createWall(2,0,homeotropicBoundary1);"
   ]
  },
  {
   "cell_type": "markdown",
   "id": "9ecc0a3c",
   "metadata": {},
   "source": [
    "But now we want to add unique anchoring ferromagnetic objects to match the geometries of interest used to create bespoke director patterns. Once again, we begin with a handy guide developed by Dan Beller found at https://github.com/sussmanLab/open-Qmin/blob/master/tools/demo_boundaryHelper.ipynb"
   ]
  },
  {
   "cell_type": "code",
   "execution_count": 2,
   "id": "9a0b154f",
   "metadata": {},
   "outputs": [],
   "source": [
    "#Big Thanks to Dan Beller for this file\n",
    "import boundaryHelper as bh"
   ]
  },
  {
   "cell_type": "markdown",
   "id": "2516575a",
   "metadata": {},
   "source": [
    "For our purposeses, we used the shapes available at the above repository, and also added a few key shapes. These shapes are cubes, flat cylinders, and washers. Each shape requires a member_func and a normal_func which specify the points included in the boundary, and the normals to the boundary respectively. "
   ]
  },
  {
   "cell_type": "markdown",
   "id": "7451a3ca",
   "metadata": {},
   "source": [
    "Setting the scene for our object:"
   ]
  },
  {
   "cell_type": "code",
   "execution_count": 3,
   "id": "2a85e4ab",
   "metadata": {},
   "outputs": [],
   "source": [
    "Lx = 240\n",
    "Ly = 240\n",
    "Lz = 28\n",
    "X, Y, Z = np.meshgrid(np.arange(Lx), np.arange(Ly), np.arange(Lz))"
   ]
  },
  {
   "cell_type": "markdown",
   "id": "5a8b6d33",
   "metadata": {},
   "source": [
    "and defining a center for our boundary objects as well as relevant parameters:"
   ]
  },
  {
   "cell_type": "code",
   "execution_count": 4,
   "id": "f9537663",
   "metadata": {},
   "outputs": [],
   "source": [
    "#C will be centered where X,Y,Z, go from 0 --> L \n",
    "Cx, Cy, Cz = np.array([((Lx-1)/2), ((Ly-1)/2), ((Lz-1)/2)])\n",
    "l = 39 #cube length\n",
    "w = 39 #cube width\n",
    "h = 19 #cube height"
   ]
  },
  {
   "cell_type": "markdown",
   "id": "624c6953",
   "metadata": {},
   "source": [
    "If you are anything like me, you would really benefit from a sanity check here:"
   ]
  },
  {
   "cell_type": "code",
   "execution_count": 5,
   "id": "c56eb3c2",
   "metadata": {},
   "outputs": [
    {
     "name": "stdout",
     "output_type": "stream",
     "text": [
      "In this notebook:\n",
      "The lattice sites go from\n",
      "X: 0 to 239\n",
      "Y: 0 to 239\n",
      "Z: 0 to 27\n",
      "Cube is centered at\n",
      "119.5 119.5 13.5\n",
      "With L, W, H\n",
      "39 39 19\n",
      "The walls of the Cube extend over\n",
      "X: 100.0 to 139.0\n",
      "Y: 100.0 to 139.0\n",
      "Z: 4.0 to 23.0\n"
     ]
    }
   ],
   "source": [
    "print('In this notebook:')\n",
    "\n",
    "print('The lattice sites go from')\n",
    "\n",
    "print('X: 0 to ' +str(Lx-1))\n",
    "print('Y: 0 to ' +str(Ly-1))\n",
    "print('Z: 0 to ' +str(Lz-1))\n",
    "\n",
    "print('Cube is centered at')\n",
    "print(Cx,Cy,Cz)\n",
    "\n",
    "print('With L, W, H')\n",
    "print(int(l),int(w),int(h))\n",
    "\n",
    "print('The walls of the Cube extend over')\n",
    "\n",
    "print('X: ' + str(Cx - (l/2)) + ' to ' + str(Cx + (l/2)))\n",
    "print('Y: ' + str(Cy - (w/2)) + ' to ' + str(Cy + (w/2)))\n",
    "print('Z: ' + str(Cz - (h/2)) + ' to ' + str(Cz + (h/2)))"
   ]
  },
  {
   "cell_type": "markdown",
   "id": "91223921",
   "metadata": {},
   "source": [
    "First lets generate a boundary file for a cube using cube functions"
   ]
  },
  {
   "cell_type": "code",
   "execution_count": 6,
   "id": "b214c970",
   "metadata": {},
   "outputs": [],
   "source": [
    "#Cube centered at (Cx,Cy,Cz) with (l w h) \n",
    "def cube_member_func(X,Y,Z):\n",
    "    bool_1 = (np.absolute(X-Cx)<=(l/2))\n",
    "    bool_2 = (np.absolute(Y-Cy)<=(w/2))\n",
    "    bool_3 = (np.absolute(Z-Cz)<=(h/2))\n",
    "    return(bool_1*bool_2*bool_3)\n",
    "\n",
    "def cube_normal_func(X, Y, Z):\n",
    "    \n",
    "    z_count = 0\n",
    "    y_count = 0\n",
    "    x_count = 0\n",
    "    \n",
    "    returnX = np.zeros(len(X))\n",
    "    returnY = np.zeros(len(Y))\n",
    "    returnZ = np.zeros(len(Z))\n",
    "    \n",
    "    #i realize there might be a more efficiant way to do this.... maybe with functional forms.\n",
    "    for i in range(len(X)):\n",
    "        \n",
    "        if int(Z[i]) == int(Cz + (h/2)):\n",
    "            returnX[i] = 0\n",
    "            returnY[i] = 0\n",
    "            returnZ[i] = 1 \n",
    "            z_count += 1\n",
    "            #print('+z')\n",
    "                    \n",
    "        elif int(Z[i]) == int(Cz - (h/2)):\n",
    "            returnX[i] = 0\n",
    "            returnY[i] = 0\n",
    "            returnZ[i] = -1 \n",
    "            z_count += 1\n",
    "            #print('-z')\n",
    "                    \n",
    "        elif int(Y[i]) == int(Cy + (w/2)):\n",
    "            returnX[i] = 0\n",
    "            returnY[i] = 1\n",
    "            returnZ[i] = 0 \n",
    "            y_count += 1\n",
    "            #print('y')\n",
    "            \n",
    "        elif int(Y[i]) == int(Cy - (w/2)):\n",
    "            returnX[i] = 0\n",
    "            returnY[i] = -1\n",
    "            returnZ[i] = 0 \n",
    "            y_count += 1\n",
    "            #print('-y')\n",
    "            \n",
    "        elif int(X[i]) == int(Cx + (l/2)):\n",
    "            returnX[i] = 1\n",
    "            returnY[i] = 0\n",
    "            returnZ[i] = 0 \n",
    "            x_count += 1\n",
    "            #print('x')\n",
    "            \n",
    "        elif int(X[i]) == int(Cx - (l/2)):\n",
    "            returnX[i] = -1\n",
    "            returnY[i] = 0\n",
    "            returnZ[i] = 0\n",
    "            x_count += 1\n",
    "            #print('-x')\n",
    "                        \n",
    "        else:\n",
    "            #print(X[i],Y[i],Z[i])\n",
    "            returnX[i] = 0\n",
    "            returnY[i] = 0\n",
    "            returnZ[i] = 0\n",
    "            #print('else')\n",
    "            \n",
    "    return(returnX,returnY,returnZ)"
   ]
  },
  {
   "cell_type": "markdown",
   "id": "ef8abb2d",
   "metadata": {},
   "source": [
    "The next part is easy, because it was made easy by Dan Beller. "
   ]
  },
  {
   "cell_type": "code",
   "execution_count": 7,
   "id": "3b6af039",
   "metadata": {},
   "outputs": [],
   "source": [
    "sc = bh.Scene(Lx, Ly, Lz)"
   ]
  },
  {
   "cell_type": "code",
   "execution_count": 8,
   "id": "ac682829",
   "metadata": {},
   "outputs": [],
   "source": [
    "ac = bh.OrientedAnchoringCondition(strength = 12.9, S0 = 0.53) #set anchoring strength here\n",
    "bo = bh.BoundaryObject(ac)"
   ]
  },
  {
   "cell_type": "code",
   "execution_count": 9,
   "id": "21da9900",
   "metadata": {},
   "outputs": [],
   "source": [
    "bo.member_func = cube_member_func\n",
    "bo.normal_func = cube_normal_func\n",
    "sc.boundary_objects.append(bo)\n",
    "sc.to_file('boundaries/cuboid_12_28_240_240_28_39_39_19.txt')"
   ]
  },
  {
   "cell_type": "markdown",
   "id": "f3469de5",
   "metadata": {},
   "source": [
    "To generate washer or cylinder geometries, you can navigate to /boundaries/Boundary_Shape"
   ]
  }
 ],
 "metadata": {
  "kernelspec": {
   "display_name": "Python 3 (ipykernel)",
   "language": "python",
   "name": "python3"
  },
  "language_info": {
   "codemirror_mode": {
    "name": "ipython",
    "version": 3
   },
   "file_extension": ".py",
   "mimetype": "text/x-python",
   "name": "python",
   "nbconvert_exporter": "python",
   "pygments_lexer": "ipython3",
   "version": "3.9.6"
  }
 },
 "nbformat": 4,
 "nbformat_minor": 5
}
