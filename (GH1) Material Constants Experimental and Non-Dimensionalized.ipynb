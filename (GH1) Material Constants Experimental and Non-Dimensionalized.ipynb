{
 "cells": [
  {
   "cell_type": "markdown",
   "id": "29e27e0e",
   "metadata": {},
   "source": [
    "# Experimental Material Constants and Non-Dimensionalized Counterparts"
   ]
  },
  {
   "cell_type": "code",
   "execution_count": 1,
   "id": "83b3534a",
   "metadata": {},
   "outputs": [],
   "source": [
    "import numpy as np"
   ]
  },
  {
   "cell_type": "markdown",
   "id": "ac9535c7",
   "metadata": {},
   "source": [
    "The NLC, specifically 4-cyano-4'-pentylbiphenyl (5CB), is simulated in our experimental system. The Landau-de Gennes theoretical framework for nematic liquid crystals is implemented in open-Qmin. Material parameters used in this theory for 5CB are obtained from literature [cite]. (W,ABC,K's,Chi)"
   ]
  },
  {
   "cell_type": "code",
   "execution_count": 2,
   "id": "514dbf4b",
   "metadata": {},
   "outputs": [],
   "source": [
    "#5CB Phase Constants and degree of order\n",
    "\n",
    "#Free Energy Functional [F] = [E] = J\n",
    "#free energy density term [f] = [E/V] = (J/([x]**3)) OR [E/A] = (J/([x]**2))\n",
    "A_c = -172000.0 #[A_c] = J/([x]**3)\n",
    "B_c = -2120000.0 #[B_c] = J/([x]**3)\n",
    "C_c =  1730000.0 #[C_c] = J/([x]**3)\n",
    "\n",
    "A = np.abs(A_c)\n",
    "\n",
    "#S_0_c = (-B_c + np.sqrt(B_c**2 - 24*A_c*C_c))/(6*C_c) #Unitless\n",
    "S_0 = S = 0.533 #unitless"
   ]
  },
  {
   "cell_type": "code",
   "execution_count": 3,
   "id": "82be8abd",
   "metadata": {},
   "outputs": [],
   "source": [
    "#5CB Oseen and LDG elastic constants \n",
    "\n",
    "K_1 = 6.2 * 10**(-12) \n",
    "K_2 = 4 * 10**(-12)\n",
    "K_3 = 8.5 * 10**(-12)\n",
    "K_24 = 1 * 10**(-12)\n",
    "#[K] = Energy Density * ([x]**2) = N\n",
    "\n",
    "L_1 = (2/(27*(S**2))) * (K_3 - K_1 + 3*K_2)\n",
    "L_2 = (4/(9*(S**2))) * (K_1 - K_24)\n",
    "L_3 = (4/(9*(S**2))) * (K_24 - K_2)\n",
    "L_6 = (4/(27*(S**3))) * (K_3 - K_1)\n",
    "#[L] = Energy Density * ([x]**2) = N\n"
   ]
  },
  {
   "cell_type": "code",
   "execution_count": 4,
   "id": "427062be",
   "metadata": {},
   "outputs": [],
   "source": [
    "#Anchoring strength for 5CB on homeotropic glass\n",
    "\n",
    "W = 10 **(-2) #[W] = Energy Density * ([x]) "
   ]
  },
  {
   "cell_type": "code",
   "execution_count": 5,
   "id": "6d840b87",
   "metadata": {},
   "outputs": [],
   "source": [
    "#Magnetic Constant and 5CB parameter\n",
    "\n",
    "mu_0 = 4 * np.pi * 10**(-7) #[mu_0] =  H/m or N/A**2\n",
    "del_chi = 2 * 10 ** (-6) #unitless"
   ]
  },
  {
   "cell_type": "markdown",
   "id": "f1b197d9",
   "metadata": {},
   "source": [
    "## Non-dimensionalization of material parameters"
   ]
  },
  {
   "cell_type": "markdown",
   "id": "6d1b8d1e",
   "metadata": {},
   "source": [
    "Dimensionful quantities are represented numerically by non-dimensionalized counterparts. Within open-Qmin, all energy densities are scaled in units of the magnitude of the first Landau-de Gennes bulk free energy coefficient. https://sussmanlab.github.io/open-Qmin/Non-dimensionalization.html\n",
    "\n",
    "The non-dimensionalization of the system is limited by the lattice spacing, which is approximately the size of one mesogen. Here we use $\\nabla x = 4.5nm$"
   ]
  },
  {
   "cell_type": "code",
   "execution_count": 6,
   "id": "f1cf5073",
   "metadata": {},
   "outputs": [],
   "source": [
    "x_units = 240\n",
    "y_units = 240\n",
    "z_units = 28\n",
    "\n",
    "del_x = 4.5 * 10 ** (-9) #4.5 nm\n",
    "\n",
    "d_x = x_units*del_x\n",
    "d_y = y_units*del_x\n",
    "d_z = z_units*del_x"
   ]
  },
  {
   "cell_type": "code",
   "execution_count": 7,
   "id": "88fd7eca",
   "metadata": {},
   "outputs": [
    {
     "name": "stdout",
     "output_type": "stream",
     "text": [
      "lateral cell dimension (x,y) = (1.0800000000000002e-06, 1.0800000000000002e-06)\n",
      "simulated cell thickness = 1.2600000000000002e-07\n",
      "lateral cell dimension (x,y) = (1.0800000000000003, 1.0800000000000003) um\n",
      "simulated cell thickness (z) = 0.12600000000000003 um\n"
     ]
    }
   ],
   "source": [
    "print('lateral cell dimension (x,y) = ' + str((d_x,d_y)))\n",
    "print('simulated cell thickness = ' + str(d_z))\n",
    "\n",
    "print('lateral cell dimension (x,y) = ' + str((d_x*10**6,d_y*10**6))  + ' um')\n",
    "print('simulated cell thickness (z) = ' + str(d_z*10**6) + ' um')"
   ]
  },
  {
   "cell_type": "code",
   "execution_count": 8,
   "id": "0116793a",
   "metadata": {},
   "outputs": [],
   "source": [
    "#non-dimensionalized parameters\n",
    "\n",
    "L_1_tilda = L_1/(A * (del_x**2))\n",
    "L_2_tilda = L_2/(A * (del_x**2))\n",
    "L_3_tilda = L_3/(A * (del_x**2))\n",
    "L_6_tilda = L_6/(A * (del_x**2))\n",
    "\n",
    "W_tilda = W/(del_x*A)"
   ]
  },
  {
   "cell_type": "code",
   "execution_count": 9,
   "id": "4ceb4985",
   "metadata": {},
   "outputs": [
    {
     "name": "stdout",
     "output_type": "stream",
     "text": [
      "L_1_tilda, L_2_tilda, L_3_tilda, L_6_tilda\n",
      "1.0705189919331586 2.3356778005814376 -1.3475064234123677 0.646083963695736\n",
      "W_tilda\n",
      "12.919896640826872\n"
     ]
    }
   ],
   "source": [
    "print('L_1_tilda, L_2_tilda, L_3_tilda, L_6_tilda')\n",
    "print(L_1_tilda, L_2_tilda, L_3_tilda, L_6_tilda)\n",
    "print('W_tilda')\n",
    "print(W_tilda)"
   ]
  },
  {
   "cell_type": "markdown",
   "id": "5d5e0b14",
   "metadata": {},
   "source": [
    "In a Freedericksz transition, the critical field H_C needed for a transition is $$ H_c = \\frac{\\pi}{d}\\sqrt{\\frac{K}{ \\mu_{0} \\nabla \\chi}}$$"
   ]
  },
  {
   "cell_type": "code",
   "execution_count": 10,
   "id": "d4b2791f",
   "metadata": {},
   "outputs": [
    {
     "name": "stdout",
     "output_type": "stream",
     "text": [
      "at cell thickness\n",
      "1.2600000000000002e-07\n",
      "m\n",
      "we expect transition at\n",
      "45853116.69815053\n",
      "A/m\n"
     ]
    }
   ],
   "source": [
    "#f-transition A/m\n",
    "\n",
    "H_transition = H_t = (np.pi/d_z)*np.sqrt(K_3/(mu_0*del_chi)) \n",
    "\n",
    "print('at cell thickness')\n",
    "print(d_z)\n",
    "print('m')\n",
    "print('we expect transition at')\n",
    "print(H_t)\n",
    "print('A/m')"
   ]
  },
  {
   "cell_type": "code",
   "execution_count": 11,
   "id": "65193705",
   "metadata": {},
   "outputs": [
    {
     "name": "stdout",
     "output_type": "stream",
     "text": [
      "the input parameter for openqmin we expect a transition at is\n",
      "123.93945130626733\n",
      "A/m\n"
     ]
    }
   ],
   "source": [
    "H_t_tilda = H_t * np.sqrt(mu_0/A)\n",
    "print('the input parameter for openqmin we expect a transition at is')\n",
    "print(H_t_tilda)\n",
    "print('A/m')"
   ]
  },
  {
   "cell_type": "code",
   "execution_count": 12,
   "id": "5b8c6923",
   "metadata": {},
   "outputs": [
    {
     "name": "stdout",
     "output_type": "stream",
     "text": [
      "120 ND = 44395662.0 A/m\n",
      "130 ND = 48095301.0 A/m\n",
      "140 ND = 51794939.0 A/m\n",
      "150 ND = 55494578.0 A/m\n",
      "160 ND = 59194216.0 A/m\n",
      "170 ND = 62893855.0 A/m\n",
      "180 ND = 66593493.0 A/m\n",
      "190 ND = 70293132.0 A/m\n",
      "200 ND = 73992770.0 A/m\n",
      "210 ND = 77692409.0 A/m\n",
      "230 ND = 85091686.0 A/m\n",
      "240 ND = 88791324.0 A/m\n",
      "250 ND = 92490963.0 A/m\n",
      "260 ND = 96190601.0 A/m\n",
      "270 ND = 99890240.0 A/m\n",
      "280 ND = 103589878.0 A/m\n",
      "290 ND = 107289517.0 A/m\n",
      "310 ND = 114688794.0 A/m\n",
      "320 ND = 118388432.0 A/m\n",
      "330 ND = 122088071.0 A/m\n",
      "340 ND = 125787709.0 A/m\n",
      "350 ND = 129487348.0 A/m\n",
      "360 ND = 133186986.0 A/m\n",
      "370 ND = 136886625.0 A/m\n",
      "380 ND = 140586263.0 A/m\n",
      "390 ND = 144285902.0 A/m\n",
      "400 ND = 147985540.0 A/m\n"
     ]
    }
   ],
   "source": [
    "H_t_tilda_list = np.array([120, 130, 140, 150, 160, 170, 180, 190, \n",
    "                           200, 210, 230, 240, 250, 260, 270, 280, 290,\n",
    "                           310, 320, 330, 340, 350, 360, 370, 380, 390, 400,])\n",
    "H_t_list = H_t_tilda_list * np.sqrt(A / mu_0)\n",
    "\n",
    "H_t_list_round = np.round(H_t_list, 0)\n",
    "\n",
    "for i in range(len(H_t_list)):\n",
    "    print(f'{H_t_tilda_list[i]} ND = {H_t_list_round[i]} A/m')"
   ]
  },
  {
   "cell_type": "code",
   "execution_count": null,
   "id": "18bbfe65",
   "metadata": {},
   "outputs": [],
   "source": []
  }
 ],
 "metadata": {
  "kernelspec": {
   "display_name": "Python 3 (ipykernel)",
   "language": "python",
   "name": "python3"
  },
  "language_info": {
   "codemirror_mode": {
    "name": "ipython",
    "version": 3
   },
   "file_extension": ".py",
   "mimetype": "text/x-python",
   "name": "python",
   "nbconvert_exporter": "python",
   "pygments_lexer": "ipython3",
   "version": "3.9.6"
  }
 },
 "nbformat": 4,
 "nbformat_minor": 5
}
