{
 "cells": [
  {
   "cell_type": "code",
   "execution_count": 3,
   "id": "ecdcf227",
   "metadata": {},
   "outputs": [],
   "source": [
    "import numpy as np\n",
    "import matplotlib.pyplot as plt"
   ]
  },
  {
   "cell_type": "markdown",
   "id": "bdb5a021",
   "metadata": {},
   "source": [
    "Using COMSOL deserves its own repository. Hopefully the 'Permanent Magnet' guide available in this repository is helpful to those of you with access to it. I have also uploaded the mph file here. For the rest of you, I have made my data available here. The mph file simulates the cuboid object we created constructed from Cobalt, in the presence of varying background magnetic fields."
   ]
  },
  {
   "cell_type": "markdown",
   "id": "2155f575",
   "metadata": {},
   "source": [
    "Some simple manipulations are required to prepare COMSOL data for openQmin. From COMSOL 3 files are created, each associated with a component of the magnetic field in A/m. "
   ]
  },
  {
   "cell_type": "code",
   "execution_count": 4,
   "id": "35580f16",
   "metadata": {},
   "outputs": [],
   "source": [
    "dimx = 240\n",
    "dimy = 240\n",
    "dimz = 28"
   ]
  },
  {
   "cell_type": "code",
   "execution_count": 13,
   "id": "758039df",
   "metadata": {},
   "outputs": [],
   "source": [
    "path = 'HField_COMSOL/'\n",
    "\n",
    "shape = 'cuboid'\n",
    "size = '_39_39_19'\n",
    "field_value = '60000000p0' #this changes with field strength\n",
    "\n",
    "stringx = path + shape + size + '_Hx_' + field_value + '.txt'\n",
    "stringy = path + shape + size + '_Hy_' + field_value + '.txt'\n",
    "stringz = path + shape + size + '_Hz_' + field_value + '.txt'\n",
    "\n",
    "\n",
    "Hx_name = stringx\n",
    "Hx = np.loadtxt(Hx_name, delimiter=',', converters=None, skiprows=9, usecols = 3, dtype = 'float')\n",
    "Hy_name = stringy\n",
    "Hy = np.loadtxt(Hy_name, delimiter=',', converters=None, skiprows=9, usecols = 3, dtype = 'float')\n",
    "Hz_name = stringz\n",
    "Hz = np.loadtxt(Hz_name, delimiter=',', converters=None, skiprows=9, usecols = 3, dtype = 'float')"
   ]
  },
  {
   "cell_type": "markdown",
   "id": "355611bd",
   "metadata": {},
   "source": [
    "Not only are we moving data around, we are ALSO non-dimensionalizing the input field. Careful! If you forget to do this, or do it wrong, you won't be happy."
   ]
  },
  {
   "cell_type": "code",
   "execution_count": 14,
   "id": "3d9e9844",
   "metadata": {},
   "outputs": [],
   "source": [
    "A = 172000.0 \n",
    "mu_0 = 4 * np.pi * 10**(-7)\n",
    "mult = np.sqrt(mu_0/A)"
   ]
  },
  {
   "cell_type": "code",
   "execution_count": 15,
   "id": "4b3fe5bb",
   "metadata": {},
   "outputs": [],
   "source": [
    "hold = np.empty([Hx.size, 6])\n",
    "count = 0  \n",
    "#This is fortran ordering (OpenQmin is Fortran Ordering) \n",
    "for k in range(dimz):\n",
    "    for j in range(dimy):\n",
    "        for i in range(dimx):\n",
    "            hold_here = ([i,j,k,float(Hx[count]*mult),float(Hy[count]*mult),float(Hz[count]*mult)])\n",
    "            hold[count]= hold_here\n",
    "            count = count+1"
   ]
  },
  {
   "cell_type": "code",
   "execution_count": 16,
   "id": "aec49ec6",
   "metadata": {},
   "outputs": [],
   "source": [
    "path = 'HField_openQmin/'\n",
    "H_name = path + shape + size + '_' + field_value + '_x0y0z0.txt'\n",
    "np.savetxt(H_name, hold, delimiter=' ', fmt='%f')"
   ]
  },
  {
   "cell_type": "markdown",
   "id": "7cf2a52d",
   "metadata": {},
   "source": [
    "GREAT! The above code might look simple..... you are welcome"
   ]
  }
 ],
 "metadata": {
  "kernelspec": {
   "display_name": "Python 3 (ipykernel)",
   "language": "python",
   "name": "python3"
  },
  "language_info": {
   "codemirror_mode": {
    "name": "ipython",
    "version": 3
   },
   "file_extension": ".py",
   "mimetype": "text/x-python",
   "name": "python",
   "nbconvert_exporter": "python",
   "pygments_lexer": "ipython3",
   "version": "3.9.6"
  }
 },
 "nbformat": 4,
 "nbformat_minor": 5
}
